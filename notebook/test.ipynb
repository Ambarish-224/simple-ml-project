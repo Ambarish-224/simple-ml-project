{
 "cells": [
  {
   "cell_type": "code",
   "execution_count": 1,
   "metadata": {},
   "outputs": [],
   "source": [
    "import os\n",
    "import pandas as pd\n",
    "import seaborn as sns\n",
    "CURR_DIR = \"/mnt/d/community_class/insurance_premium\"\n",
    "os.chdir(CURR_DIR)\n",
    "data_file_path=\"dataset/insurance.csv\"\n",
    "import logging\n",
    "logger =logging.getLogger()\n",
    "logger.setLevel(logging.DEBUG) \n"
   ]
  },
  {
   "cell_type": "code",
   "execution_count": 2,
   "metadata": {},
   "outputs": [],
   "source": [
    "from src.preprocessor import Transformer"
   ]
  },
  {
   "cell_type": "code",
   "execution_count": 4,
   "metadata": {},
   "outputs": [],
   "source": [
    "transform_dataset = Transformer(dataset_path=data_file_path)"
   ]
  },
  {
   "cell_type": "code",
   "execution_count": 5,
   "metadata": {},
   "outputs": [
    {
     "name": "stderr",
     "output_type": "stream",
     "text": [
      "DEBUG:root:Transformer object: ColumnTransformer(transformers=[('one_hot',\n",
      "                                 Pipeline(steps=[('one_hot', OneHotEncoder())]),\n",
      "                                 ['region']),\n",
      "                                ('ordinal',\n",
      "                                 Pipeline(steps=[('one_hot',\n",
      "                                                  OrdinalEncoder())]),\n",
      "                                 ['sex', 'smoker']),\n",
      "                                ('numerical',\n",
      "                                 Pipeline(steps=[('standard_scaler',\n",
      "                                                  StandardScaler())]),\n",
      "                                 ['age', 'bmi', 'children'])])\n",
      "DEBUG:root:Dataset shape: (1338, 7)\n",
      "DEBUG:root:Input feature shape: (1338, 9)\n",
      "DEBUG:root:Target feature shape: (1338,)\n",
      "DEBUG:root:Train dataset shape: {'input': (1083, 9), 'target': (1083,)}\n",
      "DEBUG:root:Validation dataset shape: {'input': (134, 9), 'target': (134,)}\n",
      "DEBUG:root:Testing dataset shape: {'input': (121, 9), 'target': (121,)}\n"
     ]
    }
   ],
   "source": [
    "dataset = transform_dataset()"
   ]
  },
  {
   "cell_type": "code",
   "execution_count": null,
   "metadata": {},
   "outputs": [],
   "source": []
  },
  {
   "cell_type": "code",
   "execution_count": null,
   "metadata": {},
   "outputs": [],
   "source": []
  }
 ],
 "metadata": {
  "kernelspec": {
   "display_name": "Python 3.8.0 (conda)",
   "language": "python",
   "name": "python3"
  },
  "language_info": {
   "codemirror_mode": {
    "name": "ipython",
    "version": 3
   },
   "file_extension": ".py",
   "mimetype": "text/x-python",
   "name": "python",
   "nbconvert_exporter": "python",
   "pygments_lexer": "ipython3",
   "version": "3.8.0"
  },
  "orig_nbformat": 4,
  "vscode": {
   "interpreter": {
    "hash": "77c8f06ca86fd88b5e983f1251e957a905a7df97acc69f7513d4cb6222fff4bc"
   }
  }
 },
 "nbformat": 4,
 "nbformat_minor": 2
}
